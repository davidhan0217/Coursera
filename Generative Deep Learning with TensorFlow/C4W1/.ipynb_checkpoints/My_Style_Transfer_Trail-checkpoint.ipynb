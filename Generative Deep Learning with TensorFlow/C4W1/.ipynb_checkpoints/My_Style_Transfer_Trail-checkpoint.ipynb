{
 "cells": [
  {
   "cell_type": "code",
   "execution_count": 4,
   "metadata": {
    "pycharm": {
     "name": "#%%\n"
    }
   },
   "outputs": [],
   "source": [
    "import tensorflow as tf\n",
    "\n",
    "import matplotlib.pyplot as plt\n",
    "import numpy as np\n",
    "from keras import backend as K\n",
    "\n",
    "from imageio import mimsave\n",
    "from IPython.display import display as display_fn\n",
    "from IPython.display import Image, clear_output"
   ]
  },
  {
   "cell_type": "markdown",
   "metadata": {
    "pycharm": {
     "name": "#%% md\n"
    }
   },
   "source": [
    "## Utilities\n",
    "\n",
    "We've provided some utility functions below to help in loading, visualizing, and preprocessing the images."
   ]
  },
  {
   "cell_type": "code",
   "execution_count": 5,
   "metadata": {
    "pycharm": {
     "name": "#%%\n"
    }
   },
   "outputs": [],
   "source": [
    "def tensor_to_image(tensor):\n",
    "  '''converts a tensor to an image'''\n",
    "  tensor_shape = tf.shape(tensor)\n",
    "  number_elem_shape = tf.shape(tensor_shape)\n",
    "  if number_elem_shape > 3:\n",
    "    assert tensor_shape[0] == 1\n",
    "    tensor = tensor[0]\n",
    "  return tf.keras.preprocessing.image.array_to_img(tensor)\n",
    "\n",
    "\n",
    "def load_img(path_to_img):\n",
    "  '''loads an image as a tensor and scales it to 512 pixels'''\n",
    "  max_dim = 512\n",
    "  image = tf.io.read_file(path_to_img)\n",
    "  image = tf.image.decode_jpeg(image)\n",
    "  image = tf.image.convert_image_dtype(image, tf.float32)\n",
    "\n",
    "  shape = tf.shape(image)[:-1]\n",
    "  shape = tf.cast(tf.shape(image)[:-1], tf.float32)\n",
    "  long_dim = max(shape)\n",
    "  scale = max_dim / long_dim\n",
    "\n",
    "  new_shape = tf.cast(shape * scale, tf.int32)\n",
    "\n",
    "  image = tf.image.resize(image, new_shape)\n",
    "  image = image[tf.newaxis, :]\n",
    "  image = tf.image.convert_image_dtype(image, tf.uint8)\n",
    "\n",
    "  return image\n",
    "\n",
    "\n",
    "def load_images(content_path, style_path):\n",
    "  '''loads the content and path images as tensors'''\n",
    "  content_image = load_img(\"{}\".format(content_path))\n",
    "  style_image = load_img(\"{}\".format(style_path))\n",
    "\n",
    "  return content_image, style_image\n",
    "\n",
    "\n",
    "def imshow(image, title=None):\n",
    "  '''displays an image with a corresponding title'''\n",
    "  if len(image.shape) > 3:\n",
    "    image = tf.squeeze(image, axis=0)\n",
    "\n",
    "  plt.imshow(image)\n",
    "  if title:\n",
    "    plt.title(title)\n",
    "\n",
    "\n",
    "def show_images_with_objects(images, titles=[]):\n",
    "  '''displays a row of images with corresponding titles'''\n",
    "  if len(images) != len(titles):\n",
    "    return\n",
    "\n",
    "  plt.figure(figsize=(20, 12))\n",
    "  for idx, (image, title) in enumerate(zip(images, titles)):\n",
    "    plt.subplot(1, len(images), idx + 1)\n",
    "    plt.xticks([])\n",
    "    plt.yticks([])\n",
    "    imshow(image, title)\n",
    "\n",
    "\n",
    "def display_gif(gif_path):\n",
    "  '''displays the generated images as an animated gif'''\n",
    "  with open(gif_path,'rb') as f:\n",
    "    display_fn(Image(data=f.read(), format='png'))\n",
    "\n",
    "\n",
    "def create_gif(gif_path, images):\n",
    "  '''creates animation of generated images'''\n",
    "  mimsave(gif_path, images, fps=1)\n",
    "\n",
    "  return gif_path\n",
    "\n",
    "\n",
    "def clip_image_values(image, min_value=0.0, max_value=255.0):\n",
    "  '''clips the image pixel values by the given min and max'''\n",
    "  return tf.clip_by_value(image, clip_value_min=min_value, clip_value_max=max_value)\n",
    "\n",
    "\n",
    "def preprocess_image(image):\n",
    "  '''centers the pixel values of a given image to use with VGG-19'''\n",
    "  image = tf.cast(image, dtype=tf.float32)\n",
    "  image = tf.keras.applications.vgg19.preprocess_input(image)\n",
    "\n",
    "  return image\n"
   ]
  },
  {
   "cell_type": "markdown",
   "metadata": {
    "pycharm": {
     "name": "#%% md\n"
    }
   },
   "source": [
    "## Locate Images"
   ]
  },
  {
   "cell_type": "markdown",
   "metadata": {
    "pycharm": {
     "name": "#%% md\n"
    }
   },
   "source": [
    "You will download a few images and you can choose which one will be the content and style image. We will set the default style and content image to the images you saw in class."
   ]
  },
  {
   "cell_type": "code",
   "execution_count": 6,
   "metadata": {
    "pycharm": {
     "name": "#%%\n"
    }
   },
   "outputs": [
    {
     "name": "stderr",
     "output_type": "stream",
     "text": [
      "A subdirectory or file images already exists.\n",
      "'wget' is not recognized as an internal or external command,\n",
      "operable program or batch file.\n",
      "'wget' is not recognized as an internal or external command,\n",
      "operable program or batch file.\n",
      "'wget' is not recognized as an internal or external command,\n",
      "operable program or batch file.\n",
      "'wget' is not recognized as an internal or external command,\n",
      "operable program or batch file.\n",
      "'wget' is not recognized as an internal or external command,\n",
      "operable program or batch file.\n"
     ]
    },
    {
     "name": "stdout",
     "output_type": "stream",
     "text": [
      "image files you can choose from: \n"
     ]
    },
    {
     "name": "stderr",
     "output_type": "stream",
     "text": [
      "'wget' is not recognized as an internal or external command,\n",
      "operable program or batch file.\n",
      "'ls' is not recognized as an internal or external command,\n",
      "operable program or batch file.\n"
     ]
    }
   ],
   "source": [
    "IMAGE_DIR = 'images'\n",
    "\n",
    "# create directory\n",
    "!mkdir {IMAGE_DIR}\n",
    "\n",
    "# download images to the directory you just created\n",
    "!wget -q -O ./images/cafe.jpg https://cdn.pixabay.com/photo/2018/07/14/15/27/cafe-3537801_1280.jpg\n",
    "!wget -q -O ./images/swan.jpg https://cdn.pixabay.com/photo/2017/02/28/23/00/swan-2107052_1280.jpg\n",
    "!wget -q -O ./images/tnj.jpg https://i.dawn.com/large/2019/10/5db6a03a4c7e3.jpg\n",
    "!wget -q -O ./images/rudolph.jpg https://cdn.pixabay.com/photo/2015/09/22/12/21/rudolph-951494_1280.jpg\n",
    "!wget -q -O ./images/dynamite.jpg https://cdn.pixabay.com/photo/2015/10/13/02/59/animals-985500_1280.jpg\n",
    "!wget -q -O ./images/painting.jpg https://storage.googleapis.com/download.tensorflow.org/example_images/Vassily_Kandinsky%2C_1913_-_Composition_7.jpg\n",
    "\n",
    "print(\"image files you can choose from: \")\n",
    "!ls images"
   ]
  }
 ],
 "metadata": {
  "kernelspec": {
   "display_name": "Python 3 (ipykernel)",
   "language": "python",
   "name": "python3"
  },
  "language_info": {
   "codemirror_mode": {
    "name": "ipython",
    "version": 3
   },
   "file_extension": ".py",
   "mimetype": "text/x-python",
   "name": "python",
   "nbconvert_exporter": "python",
   "pygments_lexer": "ipython3",
   "version": "3.10.5"
  }
 },
 "nbformat": 4,
 "nbformat_minor": 1
}
